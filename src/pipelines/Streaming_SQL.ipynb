{
 "cells": [
  {
   "cell_type": "code",
   "execution_count": 0,
   "metadata": {
    "application/vnd.databricks.v1+cell": {
     "cellMetadata": {},
     "inputWidgets": {},
     "nuid": "547a9bc1-c3b0-46f5-af49-da78d8b0c5a7",
     "showTitle": false,
     "tableResultSettingsMap": {},
     "title": ""
    },
    "collapsed": true
   },
   "outputs": [],
   "source": [
    "CREATE OR REPLACE MATERIALIZED VIEW ${catalog_name}.${schema_name}.vw_bronze_values AS\n",
    "SELECT\n",
    "    group_key,\n",
    "    count(rand_value) AS total_values,\n",
    "    avg(rand_value) AS average_value,\n",
    "    max(rand_value) AS max_value\n",
    "    FROM (\n",
    "    SELECT\n",
    "        CASE WHEN id % 3 == 0 THEN \"A\" ELSE \"B\" END AS group_key,\n",
    "        rand() AS rand_value\n",
    "    FROM RANGE(100)\n",
    ")\n",
    "GROUP BY\n",
    "    group_key"
   ]
  }
 ],
 "metadata": {
  "application/vnd.databricks.v1+notebook": {
   "computePreferences": null,
   "dashboards": [],
   "environmentMetadata": null,
   "inputWidgetPreferences": null,
   "language": "sql",
   "notebookMetadata": {
    "pythonIndentUnit": 2
   },
   "notebookName": "Streaming_SQL",
   "widgets": {}
  },
  "kernelspec": {
   "display_name": "Python 3",
   "language": "python",
   "name": "python3"
  },
  "language_info": {
   "name": "sql"
  }
 },
 "nbformat": 4,
 "nbformat_minor": 0
}
