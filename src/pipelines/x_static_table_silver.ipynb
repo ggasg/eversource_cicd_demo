{
 "cells": [
  {
   "cell_type": "code",
   "execution_count": 0,
   "metadata": {
    "application/vnd.databricks.v1+cell": {
     "cellMetadata": {
      "byteLimit": 2048000,
      "rowLimit": 10000
     },
     "inputWidgets": {},
     "nuid": "198d7165-136a-4948-b029-353124733ade",
     "showTitle": false,
     "tableResultSettingsMap": {},
     "title": ""
    }
   },
   "outputs": [],
   "source": [
    "from pyspark.sql.types import StructField, StructType, IntegerType, FloatType, ArrayType, StringType, DateType\n",
    "from pyspark.sql.functions import col, expr, lit\n",
    "from datetime import date"
   ]
  },
  {
   "cell_type": "code",
   "execution_count": 0,
   "metadata": {
    "application/vnd.databricks.v1+cell": {
     "cellMetadata": {
      "byteLimit": 2048000,
      "rowLimit": 10000
     },
     "inputWidgets": {},
     "nuid": "4007eb83-fa8b-4c93-9c6b-43e88a47e367",
     "showTitle": false,
     "tableResultSettingsMap": {},
     "title": ""
    }
   },
   "outputs": [],
   "source": [
    "dbutils.widgets.text(\"catalog\", \"missing_catalog\")\n",
    "dbutils.widgets.text(\"schema\", \"missing_schema\")\n",
    "\n",
    "devices_schema = StructType([\n",
    "  StructField(\"chip_id\", IntegerType(), True),\n",
    "  StructField(\"chip_name\", StringType(), True),\n",
    "  StructField(\"chip_type\", IntegerType(), True),\n",
    "  StructField(\"chip_manufacturer\", StringType(), True),\n",
    "  StructField(\"last_service_date\", DateType(), True),\n",
    "  StructField(\"chip_status\", StringType(), True),\n",
    "])"
   ]
  },
  {
   "cell_type": "code",
   "execution_count": 0,
   "metadata": {
    "application/vnd.databricks.v1+cell": {
     "cellMetadata": {
      "byteLimit": 2048000,
      "rowLimit": 10000
     },
     "inputWidgets": {},
     "nuid": "0a70cf05-878d-4eaf-8199-621ba789e213",
     "showTitle": false,
     "tableResultSettingsMap": {},
     "title": ""
    }
   },
   "outputs": [],
   "source": [
    "sample_devices = [\n",
    "  (21762, \"Raspberry Pi 3\", 3, \"Research in Motion\", date.fromisoformat(\"2019-01-01\"), \"ACTIVE\"),\n",
    "  (6773, \"Mega Bpard 40\", 3, \"Arduino\", date.fromisoformat(\"2017-10-31\"), \"AT_REPAIRS\"),\n",
    "  (3741, \"SPX 2000\", 4, \"Yamaha\", date.fromisoformat(\"2011-10-31\"), \"DECOMISSIONED\")\n",
    "]"
   ]
  },
  {
   "cell_type": "code",
   "execution_count": 0,
   "metadata": {
    "application/vnd.databricks.v1+cell": {
     "cellMetadata": {
      "byteLimit": 2048000,
      "rowLimit": 10000
     },
     "inputWidgets": {},
     "nuid": "bfef6913-494a-453e-acbf-0cf550b4e76a",
     "showTitle": false,
     "tableResultSettingsMap": {},
     "title": ""
    }
   },
   "outputs": [],
   "source": [
    "device_lookup_df = spark.createDataFrame(sample_devices, schema=devices_schema)\n",
    "device_lookup_df.show()"
   ]
  },
  {
   "cell_type": "code",
   "execution_count": null,
   "metadata": {},
   "outputs": [],
   "source": [
    "catalog_name = dbutils.widgets.get(\"catalog\")\n",
    "schema_name = dbutils.widgets.get(\"schema\")"
   ]
  },
  {
   "cell_type": "code",
   "execution_count": 0,
   "metadata": {
    "application/vnd.databricks.v1+cell": {
     "cellMetadata": {
      "byteLimit": 2048000,
      "rowLimit": 10000
     },
     "inputWidgets": {},
     "nuid": "df2d9596-61ac-41e0-8d47-6358116beca8",
     "showTitle": false,
     "tableResultSettingsMap": {},
     "title": ""
    }
   },
   "outputs": [],
   "source": [
    "device_lookup_df.write.mode(\"overwrite\").saveAsTable(f\"{catalog_name}.{schema_name}.pipeline_static_lookup\")"
   ]
  }
 ],
 "metadata": {
  "application/vnd.databricks.v1+notebook": {
   "computePreferences": null,
   "dashboards": [],
   "environmentMetadata": {
    "base_environment": "",
    "environment_version": "2"
   },
   "inputWidgetPreferences": null,
   "language": "python",
   "notebookMetadata": {
    "pythonIndentUnit": 2
   },
   "notebookName": "x_static_table_silver",
   "widgets": {}
  },
  "language_info": {
   "name": "python"
  }
 },
 "nbformat": 4,
 "nbformat_minor": 0
}
